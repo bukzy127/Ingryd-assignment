{
 "cells": [
  {
   "cell_type": "code",
   "execution_count": 10,
   "metadata": {},
   "outputs": [
    {
     "name": "stdout",
     "output_type": "stream",
     "text": [
      "The temperature mean is:  34.38\n",
      "The temperature median is:  35.00\n",
      "The temperature range is:  11.00\n",
      "The temperature variance is:  13.15\n",
      "The temperature mode is:  30.00\n",
      "The temperature standard deviation is:  3.63\n"
     ]
    }
   ],
   "source": [
    "import statistics\n",
    "\n",
    "#Temperture values\n",
    "temp_values = [35, 37, 40 , 30, 36, 34, 32, 33, 31, 39, 38, 29, 30, 31, 30, 35, 40, 38, 31, 35, 38]\n",
    "#Sort the values\n",
    "sort_value = sorted(temp_values)\n",
    "\n",
    "#mean of temperature vaulues\n",
    "mean_temp = statistics.mean(sort_value)\n",
    "\n",
    "#median of temperature vaulues\n",
    "median_temp = statistics.median(sort_value)\n",
    "\n",
    "#range of temperature vaulues (max value - lowest value)\n",
    "range_temp = max(sort_value) - min(sort_value)\n",
    "\n",
    "#variance of temperature vaulues\n",
    "variance_temp = statistics.variance(sort_value)\n",
    "\n",
    "#mode of temperature values\n",
    "mode_temp = statistics.mode(sort_value)\n",
    "\n",
    "#standard deviation of temperature values\n",
    "stdev_temp = statistics.stdev(sort_value)\n",
    "\n",
    "#standard deviation of temperature values\n",
    "stdev_temp = statistics.stdev(sort_value)\n",
    "\n",
    "\n",
    "\n",
    "\n",
    "#print results\n",
    "print(\"The temperature mean is: \", (\"{:.2f}\".format(mean_temp)))\n",
    "print(\"The temperature median is: \", (\"{:.2f}\".format(median_temp)))\n",
    "print(\"The temperature range is: \", (\"{:.2f}\".format(range_temp)))\n",
    "print(\"The temperature variance is: \", (\"{:.2f}\".format(variance_temp)))\n",
    "print(\"The temperature mode is: \", (\"{:.2f}\".format(mode_temp)))\n",
    "print(\"The temperature standard deviation is: \", (\"{:.2f}\".format(stdev_temp)))\n",
    "#print(\"The temperature  is: \"(stdev_temp))\n"
   ]
  },
  {
   "cell_type": "code",
   "execution_count": null,
   "metadata": {},
   "outputs": [],
   "source": []
  }
 ],
 "metadata": {
  "kernelspec": {
   "display_name": "Python 3",
   "language": "python",
   "name": "python3"
  },
  "language_info": {
   "codemirror_mode": {
    "name": "ipython",
    "version": 3
   },
   "file_extension": ".py",
   "mimetype": "text/x-python",
   "name": "python",
   "nbconvert_exporter": "python",
   "pygments_lexer": "ipython3",
   "version": "3.8.5"
  }
 },
 "nbformat": 4,
 "nbformat_minor": 4
}
